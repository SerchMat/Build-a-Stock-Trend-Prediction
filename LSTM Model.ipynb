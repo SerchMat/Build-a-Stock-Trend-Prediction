{
 "cells": [
  {
   "cell_type": "markdown",
   "id": "635577aa",
   "metadata": {},
   "source": [
    "## Import relevant libraries"
   ]
  },
  {
   "cell_type": "code",
   "execution_count": 1,
   "id": "10a96a37",
   "metadata": {},
   "outputs": [],
   "source": [
    "import numpy as np\n",
    "import pandas as pd\n",
    "import yfinance as yf\n",
    "import matplotlib.pyplot as plt\n",
    "import datetime\n",
    "from datetime import date, timedelta"
   ]
  },
  {
   "cell_type": "markdown",
   "id": "a086e75d",
   "metadata": {},
   "source": [
    "## Time frame for data set"
   ]
  },
  {
   "cell_type": "code",
   "execution_count": 2,
   "id": "00349fb8",
   "metadata": {},
   "outputs": [],
   "source": [
    "start_date = \"2022-01-1\"\n",
    "end_date = \"2024-02-29\""
   ]
  },
  {
   "cell_type": "markdown",
   "id": "6b6f47ab",
   "metadata": {},
   "source": [
    "## Data frame"
   ]
  },
  {
   "cell_type": "code",
   "execution_count": 3,
   "id": "ae61bff6",
   "metadata": {},
   "outputs": [
    {
     "name": "stdout",
     "output_type": "stream",
     "text": [
      "                  Open        High         Low       Close   Adj Close  \\\n",
      "Date                                                                     \n",
      "2022-01-03  382.583344  400.356659  378.679993  399.926666  399.926666   \n",
      "2022-01-04  396.516663  402.666656  374.350006  383.196655  383.196655   \n",
      "2022-01-05  382.216675  390.113342  360.336670  362.706665  362.706665   \n",
      "2022-01-06  359.000000  362.666656  340.166656  354.899994  354.899994   \n",
      "2022-01-07  360.123322  360.309998  336.666656  342.320007  342.320007   \n",
      "\n",
      "               Volume  \n",
      "Date                   \n",
      "2022-01-03  103931400  \n",
      "2022-01-04  100248300  \n",
      "2022-01-05   80119800  \n",
      "2022-01-06   90336600  \n",
      "2022-01-07   84164700  \n"
     ]
    }
   ],
   "source": [
    "data = yf.download('TSLA', start=start_date, end=end_date, progress=False)\n",
    "print(data.head())"
   ]
  },
  {
   "cell_type": "code",
   "execution_count": 4,
   "id": "70680b1e",
   "metadata": {},
   "outputs": [
    {
     "name": "stdout",
     "output_type": "stream",
     "text": [
      "                  Open        High         Low       Close   Adj Close  \\\n",
      "Date                                                                     \n",
      "2024-02-22  194.000000  198.320007  191.360001  197.410004  197.410004   \n",
      "2024-02-23  195.309998  197.570007  191.500000  191.970001  191.970001   \n",
      "2024-02-26  192.289993  201.779999  192.000000  199.399994  199.399994   \n",
      "2024-02-27  204.039993  205.600006  198.259995  199.729996  199.729996   \n",
      "2024-02-28  200.419998  205.300003  198.440002  202.039993  202.039993   \n",
      "\n",
      "               Volume  \n",
      "Date                   \n",
      "2024-02-22   92739500  \n",
      "2024-02-23   78841900  \n",
      "2024-02-26  111747100  \n",
      "2024-02-27  108645400  \n",
      "2024-02-28   99806200  \n"
     ]
    }
   ],
   "source": [
    "print(data.tail())"
   ]
  },
  {
   "cell_type": "code",
   "execution_count": 5,
   "id": "0bab4e91",
   "metadata": {},
   "outputs": [
    {
     "name": "stdout",
     "output_type": "stream",
     "text": [
      "        Date        Open        High         Low       Close   Adj Close  \\\n",
      "0 2022-01-03  382.583344  400.356659  378.679993  399.926666  399.926666   \n",
      "1 2022-01-04  396.516663  402.666656  374.350006  383.196655  383.196655   \n",
      "2 2022-01-05  382.216675  390.113342  360.336670  362.706665  362.706665   \n",
      "3 2022-01-06  359.000000  362.666656  340.166656  354.899994  354.899994   \n",
      "4 2022-01-07  360.123322  360.309998  336.666656  342.320007  342.320007   \n",
      "\n",
      "      Volume  \n",
      "0  103931400  \n",
      "1  100248300  \n",
      "2   80119800  \n",
      "3   90336600  \n",
      "4   84164700  \n"
     ]
    }
   ],
   "source": [
    "# Reset the index\n",
    "df = data.reset_index()\n",
    "print(df.head())"
   ]
  },
  {
   "cell_type": "code",
   "execution_count": 6,
   "id": "7fbd068f",
   "metadata": {},
   "outputs": [
    {
     "data": {
      "text/html": [
       "<div>\n",
       "<style scoped>\n",
       "    .dataframe tbody tr th:only-of-type {\n",
       "        vertical-align: middle;\n",
       "    }\n",
       "\n",
       "    .dataframe tbody tr th {\n",
       "        vertical-align: top;\n",
       "    }\n",
       "\n",
       "    .dataframe thead th {\n",
       "        text-align: right;\n",
       "    }\n",
       "</style>\n",
       "<table border=\"1\" class=\"dataframe\">\n",
       "  <thead>\n",
       "    <tr style=\"text-align: right;\">\n",
       "      <th></th>\n",
       "      <th>Open</th>\n",
       "      <th>High</th>\n",
       "      <th>Low</th>\n",
       "      <th>Close</th>\n",
       "      <th>Volume</th>\n",
       "    </tr>\n",
       "  </thead>\n",
       "  <tbody>\n",
       "    <tr>\n",
       "      <th>0</th>\n",
       "      <td>382.583344</td>\n",
       "      <td>400.356659</td>\n",
       "      <td>378.679993</td>\n",
       "      <td>399.926666</td>\n",
       "      <td>103931400</td>\n",
       "    </tr>\n",
       "    <tr>\n",
       "      <th>1</th>\n",
       "      <td>396.516663</td>\n",
       "      <td>402.666656</td>\n",
       "      <td>374.350006</td>\n",
       "      <td>383.196655</td>\n",
       "      <td>100248300</td>\n",
       "    </tr>\n",
       "    <tr>\n",
       "      <th>2</th>\n",
       "      <td>382.216675</td>\n",
       "      <td>390.113342</td>\n",
       "      <td>360.336670</td>\n",
       "      <td>362.706665</td>\n",
       "      <td>80119800</td>\n",
       "    </tr>\n",
       "    <tr>\n",
       "      <th>3</th>\n",
       "      <td>359.000000</td>\n",
       "      <td>362.666656</td>\n",
       "      <td>340.166656</td>\n",
       "      <td>354.899994</td>\n",
       "      <td>90336600</td>\n",
       "    </tr>\n",
       "    <tr>\n",
       "      <th>4</th>\n",
       "      <td>360.123322</td>\n",
       "      <td>360.309998</td>\n",
       "      <td>336.666656</td>\n",
       "      <td>342.320007</td>\n",
       "      <td>84164700</td>\n",
       "    </tr>\n",
       "  </tbody>\n",
       "</table>\n",
       "</div>"
      ],
      "text/plain": [
       "         Open        High         Low       Close     Volume\n",
       "0  382.583344  400.356659  378.679993  399.926666  103931400\n",
       "1  396.516663  402.666656  374.350006  383.196655  100248300\n",
       "2  382.216675  390.113342  360.336670  362.706665   80119800\n",
       "3  359.000000  362.666656  340.166656  354.899994   90336600\n",
       "4  360.123322  360.309998  336.666656  342.320007   84164700"
      ]
     },
     "execution_count": 6,
     "metadata": {},
     "output_type": "execute_result"
    }
   ],
   "source": [
    "# Drop column \n",
    "df = df.drop(['Date', 'Adj Close'], axis=1)\n",
    "df.head()"
   ]
  },
  {
   "cell_type": "code",
   "execution_count": 7,
   "id": "2a0f7bc3",
   "metadata": {},
   "outputs": [
    {
     "data": {
      "text/plain": [
       "[<matplotlib.lines.Line2D at 0x23039bc2c40>]"
      ]
     },
     "execution_count": 7,
     "metadata": {},
     "output_type": "execute_result"
    },
    {
     "data": {
      "image/png": "[encoded data removed]",
      "text/plain": [
       "<Figure size 432x288 with 1 Axes>"
      ]
     },
     "metadata": {
      "needs_background": "light"
     },
     "output_type": "display_data"
    }
   ],
   "source": [
    "# Price of TSLA during the parameter\n",
    "plt.plot(df.Close)"
   ]
  },
  {
   "cell_type": "code",
   "execution_count": 8,
   "id": "237faf28",
   "metadata": {},
   "outputs": [
    {
     "data": {
      "text/html": [
       "<div>\n",
       "<style scoped>\n",
       "    .dataframe tbody tr th:only-of-type {\n",
       "        vertical-align: middle;\n",
       "    }\n",
       "\n",
       "    .dataframe tbody tr th {\n",
       "        vertical-align: top;\n",
       "    }\n",
       "\n",
       "    .dataframe thead th {\n",
       "        text-align: right;\n",
       "    }\n",
       "</style>\n",
       "<table border=\"1\" class=\"dataframe\">\n",
       "  <thead>\n",
       "    <tr style=\"text-align: right;\">\n",
       "      <th></th>\n",
       "      <th>Open</th>\n",
       "      <th>High</th>\n",
       "      <th>Low</th>\n",
       "      <th>Close</th>\n",
       "      <th>Volume</th>\n",
       "    </tr>\n",
       "  </thead>\n",
       "  <tbody>\n",
       "    <tr>\n",
       "      <th>0</th>\n",
       "      <td>382.583344</td>\n",
       "      <td>400.356659</td>\n",
       "      <td>378.679993</td>\n",
       "      <td>399.926666</td>\n",
       "      <td>103931400</td>\n",
       "    </tr>\n",
       "    <tr>\n",
       "      <th>1</th>\n",
       "      <td>396.516663</td>\n",
       "      <td>402.666656</td>\n",
       "      <td>374.350006</td>\n",
       "      <td>383.196655</td>\n",
       "      <td>100248300</td>\n",
       "    </tr>\n",
       "    <tr>\n",
       "      <th>2</th>\n",
       "      <td>382.216675</td>\n",
       "      <td>390.113342</td>\n",
       "      <td>360.336670</td>\n",
       "      <td>362.706665</td>\n",
       "      <td>80119800</td>\n",
       "    </tr>\n",
       "    <tr>\n",
       "      <th>3</th>\n",
       "      <td>359.000000</td>\n",
       "      <td>362.666656</td>\n",
       "      <td>340.166656</td>\n",
       "      <td>354.899994</td>\n",
       "      <td>90336600</td>\n",
       "    </tr>\n",
       "    <tr>\n",
       "      <th>4</th>\n",
       "      <td>360.123322</td>\n",
       "      <td>360.309998</td>\n",
       "      <td>336.666656</td>\n",
       "      <td>342.320007</td>\n",
       "      <td>84164700</td>\n",
       "    </tr>\n",
       "    <tr>\n",
       "      <th>...</th>\n",
       "      <td>...</td>\n",
       "      <td>...</td>\n",
       "      <td>...</td>\n",
       "      <td>...</td>\n",
       "      <td>...</td>\n",
       "    </tr>\n",
       "    <tr>\n",
       "      <th>536</th>\n",
       "      <td>194.000000</td>\n",
       "      <td>198.320007</td>\n",
       "      <td>191.360001</td>\n",
       "      <td>197.410004</td>\n",
       "      <td>92739500</td>\n",
       "    </tr>\n",
       "    <tr>\n",
       "      <th>537</th>\n",
       "      <td>195.309998</td>\n",
       "      <td>197.570007</td>\n",
       "      <td>191.500000</td>\n",
       "      <td>191.970001</td>\n",
       "      <td>78841900</td>\n",
       "    </tr>\n",
       "    <tr>\n",
       "      <th>538</th>\n",
       "      <td>192.289993</td>\n",
       "      <td>201.779999</td>\n",
       "      <td>192.000000</td>\n",
       "      <td>199.399994</td>\n",
       "      <td>111747100</td>\n",
       "    </tr>\n",
       "    <tr>\n",
       "      <th>539</th>\n",
       "      <td>204.039993</td>\n",
       "      <td>205.600006</td>\n",
       "      <td>198.259995</td>\n",
       "      <td>199.729996</td>\n",
       "      <td>108645400</td>\n",
       "    </tr>\n",
       "    <tr>\n",
       "      <th>540</th>\n",
       "      <td>200.419998</td>\n",
       "      <td>205.300003</td>\n",
       "      <td>198.440002</td>\n",
       "      <td>202.039993</td>\n",
       "      <td>99806200</td>\n",
       "    </tr>\n",
       "  </tbody>\n",
       "</table>\n",
       "<p>541 rows × 5 columns</p>\n",
       "</div>"
      ],
      "text/plain": [
       "           Open        High         Low       Close     Volume\n",
       "0    382.583344  400.356659  378.679993  399.926666  103931400\n",
       "1    396.516663  402.666656  374.350006  383.196655  100248300\n",
       "2    382.216675  390.113342  360.336670  362.706665   80119800\n",
       "3    359.000000  362.666656  340.166656  354.899994   90336600\n",
       "4    360.123322  360.309998  336.666656  342.320007   84164700\n",
       "..          ...         ...         ...         ...        ...\n",
       "536  194.000000  198.320007  191.360001  197.410004   92739500\n",
       "537  195.309998  197.570007  191.500000  191.970001   78841900\n",
       "538  192.289993  201.779999  192.000000  199.399994  111747100\n",
       "539  204.039993  205.600006  198.259995  199.729996  108645400\n",
       "540  200.419998  205.300003  198.440002  202.039993   99806200\n",
       "\n",
       "[541 rows x 5 columns]"
      ]
     },
     "execution_count": 8,
     "metadata": {},
     "output_type": "execute_result"
    }
   ],
   "source": [
    "df"
   ]
  },
  {
   "cell_type": "markdown",
   "id": "80286fe4",
   "metadata": {},
   "source": [
    "### Moving Avg for 100 days"
   ]
  },
  {
   "cell_type": "code",
   "execution_count": 9,
   "id": "e2169687",
   "metadata": {},
   "outputs": [
    {
     "data": {
      "text/plain": [
       "0           NaN\n",
       "1           NaN\n",
       "2           NaN\n",
       "3           NaN\n",
       "4           NaN\n",
       "         ...   \n",
       "536    226.2218\n",
       "537    225.6393\n",
       "538    225.1173\n",
       "539    224.6493\n",
       "540    224.0581\n",
       "Name: Close, Length: 541, dtype: float64"
      ]
     },
     "execution_count": 9,
     "metadata": {},
     "output_type": "execute_result"
    }
   ],
   "source": [
    "# Moving Avg\n",
    "ma100 = df.Close.rolling(100).mean()\n",
    "ma100"
   ]
  },
  {
   "cell_type": "code",
   "execution_count": 10,
   "id": "6a2fa390",
   "metadata": {},
   "outputs": [
    {
     "data": {
      "text/plain": [
       "[<matplotlib.lines.Line2D at 0x2303bcd0310>]"
      ]
     },
     "execution_count": 10,
     "metadata": {},
     "output_type": "execute_result"
    },
    {
     "data": {
      "image/png": "[encoded data removed]",
      "text/plain": [
       "<Figure size 864x432 with 1 Axes>"
      ]
     },
     "metadata": {
      "needs_background": "light"
     },
     "output_type": "display_data"
    }
   ],
   "source": [
    "# Size of the graph\n",
    "plt.figure(figsize = (12,6))\n",
    "\n",
    "# Graph will display the information in the colum selected in this case 'Close'\n",
    "plt.plot(df.Close)\n",
    "plt.plot(ma100, 'b')"
   ]
  },
  {
   "cell_type": "markdown",
   "id": "b1a633f1",
   "metadata": {},
   "source": [
    "### Moving Avg for 200 days"
   ]
  },
  {
   "cell_type": "code",
   "execution_count": 11,
   "id": "3c3de864",
   "metadata": {},
   "outputs": [
    {
     "data": {
      "text/plain": [
       "0            NaN\n",
       "1            NaN\n",
       "2            NaN\n",
       "3            NaN\n",
       "4            NaN\n",
       "         ...    \n",
       "536    233.88280\n",
       "537    233.98370\n",
       "538    234.13495\n",
       "539    234.29090\n",
       "540    234.44070\n",
       "Name: Close, Length: 541, dtype: float64"
      ]
     },
     "execution_count": 11,
     "metadata": {},
     "output_type": "execute_result"
    }
   ],
   "source": [
    "# Moving Avg\n",
    "ma200 = df.Close.rolling(200).mean()\n",
    "ma200"
   ]
  },
  {
   "cell_type": "code",
   "execution_count": 12,
   "id": "efdbfe69",
   "metadata": {},
   "outputs": [
    {
     "data": {
      "text/plain": [
       "[<matplotlib.lines.Line2D at 0x2303bd19790>]"
      ]
     },
     "execution_count": 12,
     "metadata": {},
     "output_type": "execute_result"
    },
    {
     "data": {
      "image/png": "[encoded data removed]",
      "text/plain": [
       "<Figure size 864x432 with 1 Axes>"
      ]
     },
     "metadata": {
      "needs_background": "light"
     },
     "output_type": "display_data"
    }
   ],
   "source": [
    "# Size of the graph\n",
    "plt.figure(figsize = (12,6))\n",
    "\n",
    "# Graph will display the information in the colum selected in this case 'Close'\n",
    "plt.plot(df.Close)\n",
    "plt.plot(ma100, 'b')\n",
    "\n",
    "# Adding the MA 200\n",
    "plt.plot(ma200, 'g')"
   ]
  },
  {
   "cell_type": "code",
   "execution_count": 13,
   "id": "de21cd99",
   "metadata": {},
   "outputs": [
    {
     "data": {
      "text/plain": [
       "(541, 5)"
      ]
     },
     "execution_count": 13,
     "metadata": {},
     "output_type": "execute_result"
    }
   ],
   "source": [
    "# Shape of the data\n",
    "df.shape"
   ]
  },
  {
   "cell_type": "markdown",
   "id": "78e9739b",
   "metadata": {},
   "source": [
    "## Split data into Training & Testing"
   ]
  },
  {
   "cell_type": "code",
   "execution_count": 14,
   "id": "63049bfa",
   "metadata": {},
   "outputs": [
    {
     "name": "stdout",
     "output_type": "stream",
     "text": [
      "(378, 1)\n",
      "(163, 1)\n"
     ]
    }
   ],
   "source": [
    "data_training = pd.DataFrame(df['Close'][0:int(len(df)*0.70)]) ## 0.70 will represent 70% is training data\n",
    "data_testing = pd.DataFrame(df['Close'][int(len(df)*0.70):int(len(df))])\n",
    "\n",
    "# Shape of the data\n",
    "print(data_training.shape)\n",
    "print(data_testing.shape)"
   ]
  },
  {
   "cell_type": "code",
   "execution_count": 15,
   "id": "8e145988",
   "metadata": {},
   "outputs": [
    {
     "data": {
      "text/html": [
       "<div>\n",
       "<style scoped>\n",
       "    .dataframe tbody tr th:only-of-type {\n",
       "        vertical-align: middle;\n",
       "    }\n",
       "\n",
       "    .dataframe tbody tr th {\n",
       "        vertical-align: top;\n",
       "    }\n",
       "\n",
       "    .dataframe thead th {\n",
       "        text-align: right;\n",
       "    }\n",
       "</style>\n",
       "<table border=\"1\" class=\"dataframe\">\n",
       "  <thead>\n",
       "    <tr style=\"text-align: right;\">\n",
       "      <th></th>\n",
       "      <th>Close</th>\n",
       "    </tr>\n",
       "  </thead>\n",
       "  <tbody>\n",
       "    <tr>\n",
       "      <th>0</th>\n",
       "      <td>399.926666</td>\n",
       "    </tr>\n",
       "    <tr>\n",
       "      <th>1</th>\n",
       "      <td>383.196655</td>\n",
       "    </tr>\n",
       "    <tr>\n",
       "      <th>2</th>\n",
       "      <td>362.706665</td>\n",
       "    </tr>\n",
       "    <tr>\n",
       "      <th>3</th>\n",
       "      <td>354.899994</td>\n",
       "    </tr>\n",
       "    <tr>\n",
       "      <th>4</th>\n",
       "      <td>342.320007</td>\n",
       "    </tr>\n",
       "  </tbody>\n",
       "</table>\n",
       "</div>"
      ],
      "text/plain": [
       "        Close\n",
       "0  399.926666\n",
       "1  383.196655\n",
       "2  362.706665\n",
       "3  354.899994\n",
       "4  342.320007"
      ]
     },
     "execution_count": 15,
     "metadata": {},
     "output_type": "execute_result"
    }
   ],
   "source": [
    "data_training.head()"
   ]
  },
  {
   "cell_type": "code",
   "execution_count": 16,
   "id": "2ab7b9fd",
   "metadata": {},
   "outputs": [
    {
     "data": {
      "text/html": [
       "<div>\n",
       "<style scoped>\n",
       "    .dataframe tbody tr th:only-of-type {\n",
       "        vertical-align: middle;\n",
       "    }\n",
       "\n",
       "    .dataframe tbody tr th {\n",
       "        vertical-align: top;\n",
       "    }\n",
       "\n",
       "    .dataframe thead th {\n",
       "        text-align: right;\n",
       "    }\n",
       "</style>\n",
       "<table border=\"1\" class=\"dataframe\">\n",
       "  <thead>\n",
       "    <tr style=\"text-align: right;\">\n",
       "      <th></th>\n",
       "      <th>Close</th>\n",
       "    </tr>\n",
       "  </thead>\n",
       "  <tbody>\n",
       "    <tr>\n",
       "      <th>378</th>\n",
       "      <td>274.429993</td>\n",
       "    </tr>\n",
       "    <tr>\n",
       "      <th>379</th>\n",
       "      <td>269.609985</td>\n",
       "    </tr>\n",
       "    <tr>\n",
       "      <th>380</th>\n",
       "      <td>269.790009</td>\n",
       "    </tr>\n",
       "    <tr>\n",
       "      <th>381</th>\n",
       "      <td>271.989990</td>\n",
       "    </tr>\n",
       "    <tr>\n",
       "      <th>382</th>\n",
       "      <td>277.899994</td>\n",
       "    </tr>\n",
       "  </tbody>\n",
       "</table>\n",
       "</div>"
      ],
      "text/plain": [
       "          Close\n",
       "378  274.429993\n",
       "379  269.609985\n",
       "380  269.790009\n",
       "381  271.989990\n",
       "382  277.899994"
      ]
     },
     "execution_count": 16,
     "metadata": {},
     "output_type": "execute_result"
    }
   ],
   "source": [
    "data_testing.head()"
   ]
  },
  {
   "cell_type": "markdown",
   "id": "251c1101",
   "metadata": {},
   "source": [
    "## Scaling Data"
   ]
  },
  {
   "cell_type": "code",
   "execution_count": 17,
   "id": "a0eb2433",
   "metadata": {},
   "outputs": [
    {
     "name": "stderr",
     "output_type": "stream",
     "text": [
      "C:\\Users\\serch\\anaconda3\\lib\\site-packages\\scipy\\__init__.py:146: UserWarning: A NumPy version >=1.16.5 and <1.23.0 is required for this version of SciPy (detected version 1.26.4\n",
      "  warnings.warn(f\"A NumPy version >={np_minversion} and <{np_maxversion}\"\n"
     ]
    }
   ],
   "source": [
    "from sklearn.preprocessing import MinMaxScaler"
   ]
  },
  {
   "cell_type": "code",
   "execution_count": 18,
   "id": "96a98585",
   "metadata": {},
   "outputs": [],
   "source": [
    "scaler = MinMaxScaler(feature_range=(0,1))"
   ]
  },
  {
   "cell_type": "code",
   "execution_count": 19,
   "id": "439a7f5c",
   "metadata": {},
   "outputs": [
    {
     "data": {
      "text/plain": [
       "array([[1.        ],\n",
       "       [0.94267141],\n",
       "       [0.87245853],\n",
       "       [0.84570748],\n",
       "       [0.80259974],\n",
       "       [0.83819162],\n",
       "       [0.84536479],\n",
       "       [0.89313288],\n",
       "       [0.80785398],\n",
       "       [0.82847122],\n",
       "       [0.80665461],\n",
       "       [0.76683647],\n",
       "       [0.76754465],\n",
       "       [0.70772604],\n",
       "       [0.69184905],\n",
       "       [0.67859916],\n",
       "       [0.70031298],\n",
       "       [0.57659799],\n",
       "       [0.59630147],\n",
       "       [0.6995248 ],\n",
       "       [0.6932768 ],\n",
       "       [0.66404712],\n",
       "       [0.64746195],\n",
       "       [0.68421899],\n",
       "       [0.66596606],\n",
       "       [0.68271124],\n",
       "       [0.69413347],\n",
       "       [0.66277926],\n",
       "       [0.61189287],\n",
       "       [0.62989451],\n",
       "       [0.68320232],\n",
       "       [0.68429888],\n",
       "       [0.63056838],\n",
       "       [0.60844338],\n",
       "       [0.56795126],\n",
       "       [0.50228444],\n",
       "       [0.54423861],\n",
       "       [0.55463288],\n",
       "       [0.6238064 ],\n",
       "       [0.61688441],\n",
       "       [0.63461185],\n",
       "       [0.58823732],\n",
       "       [0.58709506],\n",
       "       [0.54859048],\n",
       "       [0.57122946],\n",
       "       [0.61071641],\n",
       "       [0.58710646],\n",
       "       [0.53804771],\n",
       "       [0.50494586],\n",
       "       [0.54551787],\n",
       "       [0.58931099],\n",
       "       [0.62514275],\n",
       "       [0.66373873],\n",
       "       [0.68175177],\n",
       "       [0.76492893],\n",
       "       [0.77078865],\n",
       "       [0.78770501],\n",
       "       [0.78395853],\n",
       "       [0.8767076 ],\n",
       "       [0.88553712],\n",
       "       [0.87916342],\n",
       "       [0.86044232],\n",
       "       [0.86842646],\n",
       "       [0.93794266],\n",
       "       [0.87604512],\n",
       "       [0.82407366],\n",
       "       [0.83720935],\n",
       "       [0.80092059],\n",
       "       [0.74431169],\n",
       "       [0.75689909],\n",
       "       [0.79735691],\n",
       "       [0.75467176],\n",
       "       [0.77670536],\n",
       "       [0.803959  ],\n",
       "       [0.74576234],\n",
       "       [0.781834  ],\n",
       "       [0.77757343],\n",
       "       [0.76954359],\n",
       "       [0.63064838],\n",
       "       [0.6364623 ],\n",
       "       [0.63189334],\n",
       "       [0.62418328],\n",
       "       [0.66094032],\n",
       "       [0.6681478 ],\n",
       "       [0.71768633],\n",
       "       [0.62706169],\n",
       "       [0.61834647],\n",
       "       [0.52863571],\n",
       "       [0.54340474],\n",
       "       [0.46797188],\n",
       "       [0.46111849],\n",
       "       [0.50862384],\n",
       "       [0.45697217],\n",
       "       [0.49950883],\n",
       "       [0.4403413 ],\n",
       "       [0.43989581],\n",
       "       [0.38790151],\n",
       "       [0.40046601],\n",
       "       [0.3470782 ],\n",
       "       [0.38207614],\n",
       "       [0.43796548],\n",
       "       [0.49724725],\n",
       "       [0.49568235],\n",
       "       [0.47524784],\n",
       "       [0.51480335],\n",
       "       [0.43319092],\n",
       "       [0.44608672],\n",
       "       [0.4481656 ],\n",
       "       [0.45837713],\n",
       "       [0.45097546],\n",
       "       [0.42535522],\n",
       "       [0.36883766],\n",
       "       [0.38649655],\n",
       "       [0.42799379],\n",
       "       [0.35980265],\n",
       "       [0.3723443 ],\n",
       "       [0.4418262 ],\n",
       "       [0.43857086],\n",
       "       [0.43508707],\n",
       "       [0.47153561],\n",
       "       [0.46883995],\n",
       "       [0.42684013],\n",
       "       [0.41253943],\n",
       "       [0.39877551],\n",
       "       [0.40833601],\n",
       "       [0.42822223],\n",
       "       [0.42365333],\n",
       "       [0.46754924],\n",
       "       [0.48886327],\n",
       "       [0.43259699],\n",
       "       [0.42823368],\n",
       "       [0.4418376 ],\n",
       "       [0.44620096],\n",
       "       [0.45220907],\n",
       "       [0.45385387],\n",
       "       [0.47093023],\n",
       "       [0.47768082],\n",
       "       [0.56062959],\n",
       "       [0.56246864],\n",
       "       [0.54941285],\n",
       "       [0.51660799],\n",
       "       [0.57129806],\n",
       "       [0.5921323 ],\n",
       "       [0.64781604],\n",
       "       [0.64825013],\n",
       "       [0.65959247],\n",
       "       [0.68292823],\n",
       "       [0.68716589],\n",
       "       [0.61704441],\n",
       "       [0.62476587],\n",
       "       [0.60047064],\n",
       "       [0.63824414],\n",
       "       [0.61176728],\n",
       "       [0.65768493],\n",
       "       [0.68951892],\n",
       "       [0.68007262],\n",
       "       [0.6712775 ],\n",
       "       [0.66741672],\n",
       "       [0.64615979],\n",
       "       [0.62301822],\n",
       "       [0.64542881],\n",
       "       [0.64763335],\n",
       "       [0.64411526],\n",
       "       [0.61677022],\n",
       "       [0.60556498],\n",
       "       [0.58116695],\n",
       "       [0.57400507],\n",
       "       [0.5793165 ],\n",
       "       [0.55550096],\n",
       "       [0.5699274 ],\n",
       "       [0.6017271 ],\n",
       "       [0.62077949],\n",
       "       [0.65648556],\n",
       "       [0.67272815],\n",
       "       [0.63061408],\n",
       "       [0.66652574],\n",
       "       [0.67043222],\n",
       "       [0.66906157],\n",
       "       [0.68866225],\n",
       "       [0.68749718],\n",
       "       [0.66032344],\n",
       "       [0.61848357],\n",
       "       [0.5730456 ],\n",
       "       [0.57537583],\n",
       "       [0.59912278],\n",
       "       [0.61581075],\n",
       "       [0.54864757],\n",
       "       [0.53850459],\n",
       "       [0.46020467],\n",
       "       [0.48432861],\n",
       "       [0.45475624],\n",
       "       [0.44557273],\n",
       "       [0.39396677],\n",
       "       [0.39358983],\n",
       "       [0.37145338],\n",
       "       [0.37398915],\n",
       "       [0.38934071],\n",
       "       [0.33201218],\n",
       "       [0.38121947],\n",
       "       [0.38409788],\n",
       "       [0.39043723],\n",
       "       [0.33985928],\n",
       "       [0.3643944 ],\n",
       "       [0.35346325],\n",
       "       [0.39173939],\n",
       "       [0.39934665],\n",
       "       [0.40088865],\n",
       "       [0.41264223],\n",
       "       [0.40928403],\n",
       "       [0.41024355],\n",
       "       [0.36624479],\n",
       "       [0.36737561],\n",
       "       [0.34051036],\n",
       "       [0.30490703],\n",
       "       [0.28510076],\n",
       "       [0.23812079],\n",
       "       [0.28311327],\n",
       "       [0.3011034 ],\n",
       "       [0.2839014 ],\n",
       "       [0.29579202],\n",
       "       [0.27009183],\n",
       "       [0.25724174],\n",
       "       [0.24703021],\n",
       "       [0.20481335],\n",
       "       [0.21180383],\n",
       "       [0.25734454],\n",
       "       [0.25617947],\n",
       "       [0.25638507],\n",
       "       [0.24922329],\n",
       "       [0.29675149],\n",
       "       [0.29675149],\n",
       "       [0.29729977],\n",
       "       [0.25477452],\n",
       "       [0.24576235],\n",
       "       [0.22595603],\n",
       "       [0.22390004],\n",
       "       [0.24312379],\n",
       "       [0.20464205],\n",
       "       [0.18110065],\n",
       "       [0.1668799 ],\n",
       "       [0.1698611 ],\n",
       "       [0.14436651],\n",
       "       [0.1431329 ],\n",
       "       [0.10177276],\n",
       "       [0.10098463],\n",
       "       [0.05911043],\n",
       "       [0.05157172],\n",
       "       [0.00342669],\n",
       "       [0.01579705],\n",
       "       [0.04701421],\n",
       "       [0.05167452],\n",
       "       [0.        ],\n",
       "       [0.01898387],\n",
       "       [0.00767578],\n",
       "       [0.01699639],\n",
       "       [0.03998949],\n",
       "       [0.03683694],\n",
       "       [0.05181159],\n",
       "       [0.05297665],\n",
       "       [0.0490017 ],\n",
       "       [0.08015034],\n",
       "       [0.07086398],\n",
       "       [0.06534701],\n",
       "       [0.08676383],\n",
       "       [0.12216156],\n",
       "       [0.1226413 ],\n",
       "       [0.12449169],\n",
       "       [0.17877052],\n",
       "       [0.23918306],\n",
       "       [0.20066708],\n",
       "       [0.22314617],\n",
       "       [0.25121078],\n",
       "       [0.27471789],\n",
       "       [0.2805775 ],\n",
       "       [0.29695708],\n",
       "       [0.30398181],\n",
       "       [0.31933338],\n",
       "       [0.33999637],\n",
       "       [0.30425595],\n",
       "       [0.2965459 ],\n",
       "       [0.34660986],\n",
       "       [0.36370907],\n",
       "       [0.32190339],\n",
       "       [0.34338877],\n",
       "       [0.30590075],\n",
       "       [0.31785992],\n",
       "       [0.32200624],\n",
       "       [0.3042217 ],\n",
       "       [0.34105864],\n",
       "       [0.3344794 ],\n",
       "       [0.32440492],\n",
       "       [0.28373005],\n",
       "       [0.30733995],\n",
       "       [0.29370174],\n",
       "       [0.27279895],\n",
       "       [0.25323252],\n",
       "       [0.22211815],\n",
       "       [0.22390004],\n",
       "       [0.22746378],\n",
       "       [0.25755013],\n",
       "       [0.24792113],\n",
       "       [0.26053139],\n",
       "       [0.24682462],\n",
       "       [0.25751588],\n",
       "       [0.30662038],\n",
       "       [0.28458672],\n",
       "       [0.28825331],\n",
       "       [0.28205101],\n",
       "       [0.28684835],\n",
       "       [0.27787044],\n",
       "       [0.29394163],\n",
       "       [0.29873898],\n",
       "       [0.34047611],\n",
       "       [0.29699138],\n",
       "       [0.28948692],\n",
       "       [0.26529449],\n",
       "       [0.26371818],\n",
       "       [0.26183349],\n",
       "       [0.26964635],\n",
       "       [0.24822952],\n",
       "       [0.26659659],\n",
       "       [0.26351259],\n",
       "       [0.27050302],\n",
       "       [0.26114817],\n",
       "       [0.24840087],\n",
       "       [0.18809113],\n",
       "       [0.1952529 ],\n",
       "       [0.18658337],\n",
       "       [0.18014118],\n",
       "       [0.15642848],\n",
       "       [0.17849638],\n",
       "       [0.19261433],\n",
       "       [0.18411615],\n",
       "       [0.17890757],\n",
       "       [0.17993558],\n",
       "       [0.18195732],\n",
       "       [0.21231781],\n",
       "       [0.21824597],\n",
       "       [0.20919951],\n",
       "       [0.20710922],\n",
       "       [0.21923974],\n",
       "       [0.20519029],\n",
       "       [0.19960481],\n",
       "       [0.20018734],\n",
       "       [0.22533925],\n",
       "       [0.23572212],\n",
       "       [0.24685887],\n",
       "       [0.27677387],\n",
       "       [0.26615116],\n",
       "       [0.25631652],\n",
       "       [0.26169645],\n",
       "       [0.29150866],\n",
       "       [0.31888794],\n",
       "       [0.32837984],\n",
       "       [0.3406817 ],\n",
       "       [0.36278385],\n",
       "       [0.37525701],\n",
       "       [0.38793576],\n",
       "       [0.3991068 ],\n",
       "       [0.43436744],\n",
       "       [0.46705805],\n",
       "       [0.48566502],\n",
       "       [0.516094  ],\n",
       "       [0.50951481],\n",
       "       [0.50646501],\n",
       "       [0.52236491],\n",
       "       [0.5700302 ],\n",
       "       [0.51866402],\n",
       "       [0.53631146],\n",
       "       [0.50886373],\n",
       "       [0.45557867],\n",
       "       [0.48696718],\n",
       "       [0.50763007],\n",
       "       [0.51194773],\n",
       "       [0.52657967],\n",
       "       [0.58843152],\n",
       "       [0.59754653],\n",
       "       [0.57719197]])"
      ]
     },
     "execution_count": 19,
     "metadata": {},
     "output_type": "execute_result"
    }
   ],
   "source": [
    "data_training_array = scaler.fit_transform(data_training)\n",
    "data_training_array"
   ]
  },
  {
   "cell_type": "code",
   "execution_count": 20,
   "id": "76a58600",
   "metadata": {},
   "outputs": [],
   "source": [
    "# Divide data into x and y train\n",
    "x_train = []\n",
    "y_train = []"
   ]
  },
  {
   "cell_type": "code",
   "execution_count": 21,
   "id": "76d409cd",
   "metadata": {},
   "outputs": [
    {
     "data": {
      "text/plain": [
       "(378, 1)"
      ]
     },
     "execution_count": 21,
     "metadata": {},
     "output_type": "execute_result"
    }
   ],
   "source": [
    "data_training_array.shape"
   ]
  },
  {
   "cell_type": "code",
   "execution_count": 22,
   "id": "dd23d6c1",
   "metadata": {},
   "outputs": [],
   "source": [
    "# instertio o values to the parameters\n",
    "for i in range(100, data_training_array.shape[0]):\n",
    "    \n",
    "    # Insert values into the x_train startinf from 0 to i\n",
    "    x_train.append(data_training_array[i-100:i])\n",
    "    \n",
    "    # Insert values into the x_train startinf from i to 0\n",
    "    y_train.append(data_training_array[i,0])\n",
    "\n",
    "# Convert it into np array\n",
    "x_train , y_train = np.array(x_train), np.array(y_train)"
   ]
  },
  {
   "cell_type": "code",
   "execution_count": 28,
   "id": "bd55610a",
   "metadata": {},
   "outputs": [
    {
     "data": {
      "text/plain": [
       "(278, 100, 1)"
      ]
     },
     "execution_count": 28,
     "metadata": {},
     "output_type": "execute_result"
    }
   ],
   "source": [
    "# Shape of the x_train\n",
    "x_train.shape"
   ]
  },
  {
   "cell_type": "markdown",
   "id": "61c005c0",
   "metadata": {},
   "source": [
    "## Machine Laerning Model"
   ]
  },
  {
   "cell_type": "code",
   "execution_count": 24,
   "id": "e1f4cf0f",
   "metadata": {},
   "outputs": [
    {
     "name": "stdout",
     "output_type": "stream",
     "text": [
      "WARNING:tensorflow:From C:\\Users\\serch\\anaconda3\\lib\\site-packages\\keras\\src\\losses.py:2976: The name tf.losses.sparse_softmax_cross_entropy is deprecated. Please use tf.compat.v1.losses.sparse_softmax_cross_entropy instead.\n",
      "\n"
     ]
    }
   ],
   "source": [
    "from keras.layers import Dense, Dropout, LSTM\n",
    "from keras.models import Sequential"
   ]
  },
  {
   "cell_type": "markdown",
   "id": "893da36a",
   "metadata": {},
   "source": [
    "### Creating the Model"
   ]
  },
  {
   "cell_type": "code",
   "execution_count": 30,
   "id": "ab276f7f",
   "metadata": {},
   "outputs": [],
   "source": [
    "# model seuqential\n",
    "model = Sequential()\n",
    "\n",
    "# First Layer\n",
    "# List\n",
    "model.add(LSTM(units = 50, activation = 'relu', return_sequences = True, input_shape = (x_train.shape[1],1)))\n",
    "\n",
    "# Add dropot\n",
    "model.add(Dropout(0.2))\n",
    "\n",
    "\n",
    "\n",
    "# Second Layer\n",
    "# List\n",
    "model.add(LSTM(units = 60, activation = 'relu', return_sequences = True))\n",
    "\n",
    "# Add dropot\n",
    "model.add(Dropout(0.3))\n",
    "\n",
    "\n",
    "\n",
    "# Third Layer\n",
    "# List\n",
    "model.add(LSTM(units = 80, activation = 'relu', return_sequences = True))\n",
    "\n",
    "# Add dropot\n",
    "model.add(Dropout(0.4))\n",
    "\n",
    "\n",
    "\n",
    "# Fourth Layer\n",
    "# List\n",
    "model.add(LSTM(units = 120, activation = 'relu'))\n",
    "\n",
    "# Add dropot\n",
    "model.add(Dropout(0.5))\n",
    "\n",
    "# Add all the layers\n",
    "model.add(Dense(units=1))"
   ]
  },
  {
   "cell_type": "code",
   "execution_count": 31,
   "id": "dcd85c50",
   "metadata": {},
   "outputs": [
    {
     "name": "stdout",
     "output_type": "stream",
     "text": [
      "Model: \"sequential_3\"\n",
      "_________________________________________________________________\n",
      " Layer (type)                Output Shape              Param #   \n",
      "=================================================================\n",
      " lstm_2 (LSTM)               (None, 100, 50)           10400     \n",
      "                                                                 \n",
      " dropout (Dropout)           (None, 100, 50)           0         \n",
      "                                                                 \n",
      " lstm_3 (LSTM)               (None, 100, 60)           26640     \n",
      "                                                                 \n",
      " dropout_1 (Dropout)         (None, 100, 60)           0         \n",
      "                                                                 \n",
      " lstm_4 (LSTM)               (None, 100, 80)           45120     \n",
      "                                                                 \n",
      " dropout_2 (Dropout)         (None, 100, 80)           0         \n",
      "                                                                 \n",
      " lstm_5 (LSTM)               (None, 120)               96480     \n",
      "                                                                 \n",
      " dropout_3 (Dropout)         (None, 120)               0         \n",
      "                                                                 \n",
      " dense (Dense)               (None, 1)                 121       \n",
      "                                                                 \n",
      "=================================================================\n",
      "Total params: 178761 (698.29 KB)\n",
      "Trainable params: 178761 (698.29 KB)\n",
      "Non-trainable params: 0 (0.00 Byte)\n",
      "_________________________________________________________________\n"
     ]
    }
   ],
   "source": [
    "# Sumary of the model\n",
    "model.summary()"
   ]
  },
  {
   "cell_type": "code",
   "execution_count": 32,
   "id": "3a2925d8",
   "metadata": {},
   "outputs": [
    {
     "name": "stdout",
     "output_type": "stream",
     "text": [
      "WARNING:tensorflow:From C:\\Users\\serch\\anaconda3\\lib\\site-packages\\keras\\src\\optimizers\\__init__.py:309: The name tf.train.Optimizer is deprecated. Please use tf.compat.v1.train.Optimizer instead.\n",
      "\n",
      "Epoch 1/50\n",
      "WARNING:tensorflow:From C:\\Users\\serch\\anaconda3\\lib\\site-packages\\keras\\src\\utils\\tf_utils.py:492: The name tf.ragged.RaggedTensorValue is deprecated. Please use tf.compat.v1.ragged.RaggedTensorValue instead.\n",
      "\n",
      "9/9 [==============================] - 8s 157ms/step - loss: 0.1069\n",
      "Epoch 2/50\n",
      "9/9 [==============================] - 1s 155ms/step - loss: 0.0277\n",
      "Epoch 3/50\n",
      "9/9 [==============================] - 1s 162ms/step - loss: 0.0259\n",
      "Epoch 4/50\n",
      "9/9 [==============================] - 1s 150ms/step - loss: 0.0204\n",
      "Epoch 5/50\n",
      "9/9 [==============================] - 1s 146ms/step - loss: 0.0189\n",
      "Epoch 6/50\n",
      "9/9 [==============================] - 1s 149ms/step - loss: 0.0175\n",
      "Epoch 7/50\n",
      "9/9 [==============================] - 1s 140ms/step - loss: 0.0175\n",
      "Epoch 8/50\n",
      "9/9 [==============================] - 1s 145ms/step - loss: 0.0174\n",
      "Epoch 9/50\n",
      "9/9 [==============================] - 1s 142ms/step - loss: 0.0157\n",
      "Epoch 10/50\n",
      "9/9 [==============================] - 1s 141ms/step - loss: 0.0140\n",
      "Epoch 11/50\n",
      "9/9 [==============================] - 1s 145ms/step - loss: 0.0109\n",
      "Epoch 12/50\n",
      "9/9 [==============================] - 1s 149ms/step - loss: 0.0123\n",
      "Epoch 13/50\n",
      "9/9 [==============================] - 1s 148ms/step - loss: 0.0119\n",
      "Epoch 14/50\n",
      "9/9 [==============================] - 1s 143ms/step - loss: 0.0119\n",
      "Epoch 15/50\n",
      "9/9 [==============================] - 1s 148ms/step - loss: 0.0117\n",
      "Epoch 16/50\n",
      "9/9 [==============================] - 1s 143ms/step - loss: 0.0103\n",
      "Epoch 17/50\n",
      "9/9 [==============================] - 1s 142ms/step - loss: 0.0111\n",
      "Epoch 18/50\n",
      "9/9 [==============================] - 1s 142ms/step - loss: 0.0104\n",
      "Epoch 19/50\n",
      "9/9 [==============================] - 1s 146ms/step - loss: 0.0088\n",
      "Epoch 20/50\n",
      "9/9 [==============================] - 1s 148ms/step - loss: 0.0089\n",
      "Epoch 21/50\n",
      "9/9 [==============================] - 1s 146ms/step - loss: 0.0084\n",
      "Epoch 22/50\n",
      "9/9 [==============================] - 1s 141ms/step - loss: 0.0095\n",
      "Epoch 23/50\n",
      "9/9 [==============================] - 1s 143ms/step - loss: 0.0112\n",
      "Epoch 24/50\n",
      "9/9 [==============================] - 1s 141ms/step - loss: 0.0101\n",
      "Epoch 25/50\n",
      "9/9 [==============================] - 1s 147ms/step - loss: 0.0091\n",
      "Epoch 26/50\n",
      "9/9 [==============================] - 1s 147ms/step - loss: 0.0091\n",
      "Epoch 27/50\n",
      "9/9 [==============================] - 1s 154ms/step - loss: 0.0092\n",
      "Epoch 28/50\n",
      "9/9 [==============================] - 1s 152ms/step - loss: 0.0089\n",
      "Epoch 29/50\n",
      "9/9 [==============================] - 1s 147ms/step - loss: 0.0086\n",
      "Epoch 30/50\n",
      "9/9 [==============================] - 1s 142ms/step - loss: 0.0083\n",
      "Epoch 31/50\n",
      "9/9 [==============================] - 1s 140ms/step - loss: 0.0068\n",
      "Epoch 32/50\n",
      "9/9 [==============================] - 1s 142ms/step - loss: 0.0078\n",
      "Epoch 33/50\n",
      "9/9 [==============================] - 1s 149ms/step - loss: 0.0067\n",
      "Epoch 34/50\n",
      "9/9 [==============================] - 1s 145ms/step - loss: 0.0077\n",
      "Epoch 35/50\n",
      "9/9 [==============================] - 1s 148ms/step - loss: 0.0062\n",
      "Epoch 36/50\n",
      "9/9 [==============================] - 1s 143ms/step - loss: 0.0065\n",
      "Epoch 37/50\n",
      "9/9 [==============================] - 1s 146ms/step - loss: 0.0071\n",
      "Epoch 38/50\n",
      "9/9 [==============================] - 1s 144ms/step - loss: 0.0062\n",
      "Epoch 39/50\n",
      "9/9 [==============================] - 1s 147ms/step - loss: 0.0088\n",
      "Epoch 40/50\n",
      "9/9 [==============================] - 1s 149ms/step - loss: 0.0078\n",
      "Epoch 41/50\n",
      "9/9 [==============================] - 1s 143ms/step - loss: 0.0080\n",
      "Epoch 42/50\n",
      "9/9 [==============================] - 1s 146ms/step - loss: 0.0065\n",
      "Epoch 43/50\n",
      "9/9 [==============================] - 1s 143ms/step - loss: 0.0065\n",
      "Epoch 44/50\n",
      "9/9 [==============================] - 1s 148ms/step - loss: 0.0063\n",
      "Epoch 45/50\n",
      "9/9 [==============================] - 1s 144ms/step - loss: 0.0060\n",
      "Epoch 46/50\n",
      "9/9 [==============================] - 1s 142ms/step - loss: 0.0069\n",
      "Epoch 47/50\n",
      "9/9 [==============================] - 1s 142ms/step - loss: 0.0065\n",
      "Epoch 48/50\n",
      "9/9 [==============================] - 1s 143ms/step - loss: 0.0063\n",
      "Epoch 49/50\n",
      "9/9 [==============================] - 1s 157ms/step - loss: 0.0055\n",
      "Epoch 50/50\n",
      "9/9 [==============================] - 1s 146ms/step - loss: 0.0059\n"
     ]
    },
    {
     "data": {
      "text/plain": [
       "<keras.src.callbacks.History at 0x230468832e0>"
      ]
     },
     "execution_count": 32,
     "metadata": {},
     "output_type": "execute_result"
    }
   ],
   "source": [
    "# Compile model\n",
    "model.compile(optimizer='adam', loss = 'mean_squared_error')\n",
    "\n",
    "# Fit data\n",
    "model.fit(x_train, y_train, epochs=50)"
   ]
  },
  {
   "cell_type": "code",
   "execution_count": 33,
   "id": "7d614bdd",
   "metadata": {
    "scrolled": true
   },
   "outputs": [
    {
     "name": "stderr",
     "output_type": "stream",
     "text": [
      "C:\\Users\\serch\\anaconda3\\lib\\site-packages\\keras\\src\\engine\\training.py:3103: UserWarning: You are saving your model as an HDF5 file via `model.save()`. This file format is considered legacy. We recommend using instead the native Keras format, e.g. `model.save('my_model.keras')`.\n",
      "  saving_api.save_model(\n"
     ]
    }
   ],
   "source": [
    "model.save('keras_model.h5')"
   ]
  },
  {
   "cell_type": "code",
   "execution_count": 34,
   "id": "1de9ac53",
   "metadata": {},
   "outputs": [
    {
     "data": {
      "text/html": [
       "<div>\n",
       "<style scoped>\n",
       "    .dataframe tbody tr th:only-of-type {\n",
       "        vertical-align: middle;\n",
       "    }\n",
       "\n",
       "    .dataframe tbody tr th {\n",
       "        vertical-align: top;\n",
       "    }\n",
       "\n",
       "    .dataframe thead th {\n",
       "        text-align: right;\n",
       "    }\n",
       "</style>\n",
       "<table border=\"1\" class=\"dataframe\">\n",
       "  <thead>\n",
       "    <tr style=\"text-align: right;\">\n",
       "      <th></th>\n",
       "      <th>Close</th>\n",
       "    </tr>\n",
       "  </thead>\n",
       "  <tbody>\n",
       "    <tr>\n",
       "      <th>378</th>\n",
       "      <td>274.429993</td>\n",
       "    </tr>\n",
       "    <tr>\n",
       "      <th>379</th>\n",
       "      <td>269.609985</td>\n",
       "    </tr>\n",
       "    <tr>\n",
       "      <th>380</th>\n",
       "      <td>269.790009</td>\n",
       "    </tr>\n",
       "    <tr>\n",
       "      <th>381</th>\n",
       "      <td>271.989990</td>\n",
       "    </tr>\n",
       "    <tr>\n",
       "      <th>382</th>\n",
       "      <td>277.899994</td>\n",
       "    </tr>\n",
       "  </tbody>\n",
       "</table>\n",
       "</div>"
      ],
      "text/plain": [
       "          Close\n",
       "378  274.429993\n",
       "379  269.609985\n",
       "380  269.790009\n",
       "381  271.989990\n",
       "382  277.899994"
      ]
     },
     "execution_count": 34,
     "metadata": {},
     "output_type": "execute_result"
    }
   ],
   "source": [
    "data_testing.head()"
   ]
  },
  {
   "cell_type": "code",
   "execution_count": 35,
   "id": "2ec24c1f",
   "metadata": {},
   "outputs": [],
   "source": [
    "# Appedn data frames\n",
    "past_100_days = data_training.tail(100)"
   ]
  },
  {
   "cell_type": "code",
   "execution_count": 37,
   "id": "4e7d8758",
   "metadata": {},
   "outputs": [],
   "source": [
    "# Final data frame\n",
    "final_df = past_100_days.append(data_testing, ignore_index=True)"
   ]
  },
  {
   "cell_type": "code",
   "execution_count": 39,
   "id": "e08003e8",
   "metadata": {},
   "outputs": [
    {
     "data": {
      "text/html": [
       "<div>\n",
       "<style scoped>\n",
       "    .dataframe tbody tr th:only-of-type {\n",
       "        vertical-align: middle;\n",
       "    }\n",
       "\n",
       "    .dataframe tbody tr th {\n",
       "        vertical-align: top;\n",
       "    }\n",
       "\n",
       "    .dataframe thead th {\n",
       "        text-align: right;\n",
       "    }\n",
       "</style>\n",
       "<table border=\"1\" class=\"dataframe\">\n",
       "  <thead>\n",
       "    <tr style=\"text-align: right;\">\n",
       "      <th></th>\n",
       "      <th>Close</th>\n",
       "    </tr>\n",
       "  </thead>\n",
       "  <tbody>\n",
       "    <tr>\n",
       "      <th>0</th>\n",
       "      <td>196.889999</td>\n",
       "    </tr>\n",
       "    <tr>\n",
       "      <th>1</th>\n",
       "      <td>194.639999</td>\n",
       "    </tr>\n",
       "    <tr>\n",
       "      <th>2</th>\n",
       "      <td>209.250000</td>\n",
       "    </tr>\n",
       "    <tr>\n",
       "      <th>3</th>\n",
       "      <td>214.240005</td>\n",
       "    </tr>\n",
       "    <tr>\n",
       "      <th>4</th>\n",
       "      <td>202.039993</td>\n",
       "    </tr>\n",
       "  </tbody>\n",
       "</table>\n",
       "</div>"
      ],
      "text/plain": [
       "        Close\n",
       "0  196.889999\n",
       "1  194.639999\n",
       "2  209.250000\n",
       "3  214.240005\n",
       "4  202.039993"
      ]
     },
     "execution_count": 39,
     "metadata": {},
     "output_type": "execute_result"
    }
   ],
   "source": [
    "final_df.head()"
   ]
  },
  {
   "cell_type": "code",
   "execution_count": 41,
   "id": "8c953552",
   "metadata": {},
   "outputs": [
    {
     "data": {
      "text/plain": [
       "array([[0.30904793],\n",
       "       [0.2929293 ],\n",
       "       [0.39759296],\n",
       "       [0.43334055],\n",
       "       [0.34594165],\n",
       "       [0.39085894],\n",
       "       [0.31248654],\n",
       "       [0.33748837],\n",
       "       [0.34615666],\n",
       "       [0.30897633],\n",
       "       [0.38598758],\n",
       "       [0.37223303],\n",
       "       [0.35117133],\n",
       "       [0.26613651],\n",
       "       [0.31549534],\n",
       "       [0.2869833 ],\n",
       "       [0.24328396],\n",
       "       [0.2023784 ],\n",
       "       [0.13733074],\n",
       "       [0.14105597],\n",
       "       [0.14850631],\n",
       "       [0.21140479],\n",
       "       [0.19127443],\n",
       "       [0.21763741],\n",
       "       [0.18898206],\n",
       "       [0.2113332 ],\n",
       "       [0.31399099],\n",
       "       [0.26792747],\n",
       "       [0.27559282],\n",
       "       [0.2626263 ],\n",
       "       [0.27265562],\n",
       "       [0.25388641],\n",
       "       [0.28748482],\n",
       "       [0.29751415],\n",
       "       [0.38476974],\n",
       "       [0.29386063],\n",
       "       [0.27817181],\n",
       "       [0.22759514],\n",
       "       [0.22429972],\n",
       "       [0.22035959],\n",
       "       [0.23669313],\n",
       "       [0.19191915],\n",
       "       [0.23031732],\n",
       "       [0.22386991],\n",
       "       [0.23848409],\n",
       "       [0.21892685],\n",
       "       [0.19227736],\n",
       "       [0.06619389],\n",
       "       [0.08116629],\n",
       "       [0.06304179],\n",
       "       [0.04957374],\n",
       "       [0.        ],\n",
       "       [0.04613513],\n",
       "       [0.0756501 ],\n",
       "       [0.05788382],\n",
       "       [0.04699475],\n",
       "       [0.04914393],\n",
       "       [0.05337056],\n",
       "       [0.11684217],\n",
       "       [0.12923557],\n",
       "       [0.11032305],\n",
       "       [0.1059531 ],\n",
       "       [0.13131315],\n",
       "       [0.10194137],\n",
       "       [0.09026439],\n",
       "       [0.09148223],\n",
       "       [0.14406477],\n",
       "       [0.16577119],\n",
       "       [0.18905366],\n",
       "       [0.25159393],\n",
       "       [0.2293861 ],\n",
       "       [0.20882581],\n",
       "       [0.22007309],\n",
       "       [0.28239845],\n",
       "       [0.33963754],\n",
       "       [0.3594813 ],\n",
       "       [0.38519955],\n",
       "       [0.43140628],\n",
       "       [0.45748264],\n",
       "       [0.48398882],\n",
       "       [0.507343  ],\n",
       "       [0.58105883],\n",
       "       [0.64940179],\n",
       "       [0.68830149],\n",
       "       [0.75191628],\n",
       "       [0.73816184],\n",
       "       [0.73178592],\n",
       "       [0.76502623],\n",
       "       [0.86467523],\n",
       "       [0.75728916],\n",
       "       [0.79418288],\n",
       "       [0.73680069],\n",
       "       [0.625403  ],\n",
       "       [0.69102378],\n",
       "       [0.7342216 ],\n",
       "       [0.7432481 ],\n",
       "       [0.77383761],\n",
       "       [0.903145  ],\n",
       "       [0.92220083],\n",
       "       [0.87964762],\n",
       "       [0.86453181],\n",
       "       [0.83000207],\n",
       "       [0.83129172],\n",
       "       [0.84705203],\n",
       "       [0.88939034],\n",
       "       [0.91432057],\n",
       "       [0.9787951 ],\n",
       "       [1.        ],\n",
       "       [0.98509931],\n",
       "       [0.78193278],\n",
       "       [0.76130089],\n",
       "       [0.82606204],\n",
       "       [0.79898275],\n",
       "       [0.79232043],\n",
       "       [0.73042488],\n",
       "       [0.80729282],\n",
       "       [0.81438495],\n",
       "       [0.76882305],\n",
       "       [0.7189627 ],\n",
       "       [0.75628634],\n",
       "       [0.71717174],\n",
       "       [0.69990687],\n",
       "       [0.68737015],\n",
       "       [0.63356977],\n",
       "       [0.65613582],\n",
       "       [0.63686508],\n",
       "       [0.61616159],\n",
       "       [0.56744759],\n",
       "       [0.51472174],\n",
       "       [0.46901643],\n",
       "       [0.44229534],\n",
       "       [0.55541228],\n",
       "       [0.56909524],\n",
       "       [0.59538651],\n",
       "       [0.54652909],\n",
       "       [0.60777992],\n",
       "       [0.60942768],\n",
       "       [0.74095562],\n",
       "       [0.73894976],\n",
       "       [0.74740303],\n",
       "       [0.65377174],\n",
       "       [0.73601256],\n",
       "       [0.70327388],\n",
       "       [0.70019348],\n",
       "       [0.67877357],\n",
       "       [0.85844251],\n",
       "       [0.81474328],\n",
       "       [0.84210897],\n",
       "       [0.8760657 ],\n",
       "       [0.86424542],\n",
       "       [0.79898275],\n",
       "       [0.80772264],\n",
       "       [0.77971201],\n",
       "       [0.73035317],\n",
       "       [0.65284051],\n",
       "       [0.66795621],\n",
       "       [0.64739593],\n",
       "       [0.62146287],\n",
       "       [0.66358627],\n",
       "       [0.69109538],\n",
       "       [0.70098151],\n",
       "       [0.6646608 ],\n",
       "       [0.76946777],\n",
       "       [0.7615158 ],\n",
       "       [0.76495452],\n",
       "       [0.75879373],\n",
       "       [0.78709075],\n",
       "       [0.7825775 ],\n",
       "       [0.75306253],\n",
       "       [0.69754279],\n",
       "       [0.71760155],\n",
       "       [0.72426398],\n",
       "       [0.63707998],\n",
       "       [0.47539224],\n",
       "       [0.41722191],\n",
       "       [0.41786663],\n",
       "       [0.44967409],\n",
       "       [0.42030231],\n",
       "       [0.37259113],\n",
       "       [0.3836235 ],\n",
       "       [0.31241494],\n",
       "       [0.33734506],\n",
       "       [0.37187481],\n",
       "       [0.46393005],\n",
       "       [0.47431771],\n",
       "       [0.46937464],\n",
       "       [0.49022132],\n",
       "       [0.48971991],\n",
       "       [0.40282253],\n",
       "       [0.43627764],\n",
       "       [0.50118209],\n",
       "       [0.59932664],\n",
       "       [0.63822622],\n",
       "       [0.57196073],\n",
       "       [0.5770471 ],\n",
       "       [0.58636011],\n",
       "       [0.62647754],\n",
       "       [0.57640238],\n",
       "       [0.58528547],\n",
       "       [0.58979872],\n",
       "       [0.66602195],\n",
       "       [0.64753923],\n",
       "       [0.61845407],\n",
       "       [0.60949928],\n",
       "       [0.58621681],\n",
       "       [0.60871125],\n",
       "       [0.6133677 ],\n",
       "       [0.63679348],\n",
       "       [0.64539006],\n",
       "       [0.61601839],\n",
       "       [0.59646104],\n",
       "       [0.61279458],\n",
       "       [0.69704138],\n",
       "       [0.71459275],\n",
       "       [0.70442012],\n",
       "       [0.74124224],\n",
       "       [0.66903075],\n",
       "       [0.72175659],\n",
       "       [0.70771542],\n",
       "       [0.73687218],\n",
       "       [0.77147364],\n",
       "       [0.71230027],\n",
       "       [0.67863026],\n",
       "       [0.67820045],\n",
       "       [0.60677698],\n",
       "       [0.60305176],\n",
       "       [0.59989976],\n",
       "       [0.62110466],\n",
       "       [0.58177526],\n",
       "       [0.57446812],\n",
       "       [0.52632712],\n",
       "       [0.46665235],\n",
       "       [0.47395949],\n",
       "       [0.44272516],\n",
       "       [0.41643389],\n",
       "       [0.41865466],\n",
       "       [0.39436926],\n",
       "       [0.39680493],\n",
       "       [0.38742033],\n",
       "       [0.20689165],\n",
       "       [0.2113332 ],\n",
       "       [0.26635141],\n",
       "       [0.27107957],\n",
       "       [0.24027505],\n",
       "       [0.25152233],\n",
       "       [0.2447167 ],\n",
       "       [0.19564437],\n",
       "       [0.22458634],\n",
       "       [0.24235262],\n",
       "       [0.25653699],\n",
       "       [0.28526405],\n",
       "       [0.24629276],\n",
       "       [0.21684938],\n",
       "       [0.25044779],\n",
       "       [0.33455117],\n",
       "       [0.33096925],\n",
       "       [0.28662508],\n",
       "       [0.29386063],\n",
       "       [0.31277316],\n",
       "       [0.27380186],\n",
       "       [0.32702912],\n",
       "       [0.3293932 ],\n",
       "       [0.34594165]])"
      ]
     },
     "execution_count": 41,
     "metadata": {},
     "output_type": "execute_result"
    }
   ],
   "source": [
    "# Scaling down the data\n",
    "input_data = scaler.fit_transform(final_df)\n",
    "\n",
    "input_data"
   ]
  },
  {
   "cell_type": "code",
   "execution_count": 42,
   "id": "2db650a4",
   "metadata": {},
   "outputs": [
    {
     "data": {
      "text/plain": [
       "(263, 1)"
      ]
     },
     "execution_count": 42,
     "metadata": {},
     "output_type": "execute_result"
    }
   ],
   "source": [
    "# Shape of the data\n",
    "input_data.shape"
   ]
  },
  {
   "cell_type": "code",
   "execution_count": 43,
   "id": "7ee08b9d",
   "metadata": {},
   "outputs": [],
   "source": [
    "x_test = []\n",
    "y_test = []\n",
    "\n",
    "for i in range(100, input_data.shape[0]):\n",
    "    \n",
    "    # Append data into the new arrays\n",
    "    x_test.append(input_data[i-100:i])\n",
    "    y_test.append(input_data[i,0])"
   ]
  },
  {
   "cell_type": "code",
   "execution_count": 44,
   "id": "4c1cf654",
   "metadata": {},
   "outputs": [
    {
     "name": "stdout",
     "output_type": "stream",
     "text": [
      "(163, 100, 1)\n",
      "(163,)\n"
     ]
    }
   ],
   "source": [
    "# Convert into NumPy array\n",
    "x_test, y_test = np.array(x_test), np.array(y_test)\n",
    "\n",
    "print(x_test.shape)\n",
    "print(y_test.shape)"
   ]
  },
  {
   "cell_type": "markdown",
   "id": "f23cccd1",
   "metadata": {},
   "source": [
    "## Making Predictions"
   ]
  },
  {
   "cell_type": "code",
   "execution_count": 45,
   "id": "ed855295",
   "metadata": {},
   "outputs": [
    {
     "name": "stdout",
     "output_type": "stream",
     "text": [
      "6/6 [==============================] - 1s 50ms/step\n"
     ]
    }
   ],
   "source": [
    "y_predicted = model.predict(x_test)"
   ]
  },
  {
   "cell_type": "code",
   "execution_count": 46,
   "id": "4b3661b7",
   "metadata": {},
   "outputs": [
    {
     "data": {
      "text/plain": [
       "(163, 1)"
      ]
     },
     "execution_count": 46,
     "metadata": {},
     "output_type": "execute_result"
    }
   ],
   "source": [
    "y_predicted.shape"
   ]
  },
  {
   "cell_type": "code",
   "execution_count": 47,
   "id": "5e9a1461",
   "metadata": {},
   "outputs": [
    {
     "data": {
      "text/plain": [
       "array([0.86453181, 0.83000207, 0.83129172, 0.84705203, 0.88939034,\n",
       "       0.91432057, 0.9787951 , 1.        , 0.98509931, 0.78193278,\n",
       "       0.76130089, 0.82606204, 0.79898275, 0.79232043, 0.73042488,\n",
       "       0.80729282, 0.81438495, 0.76882305, 0.7189627 , 0.75628634,\n",
       "       0.71717174, 0.69990687, 0.68737015, 0.63356977, 0.65613582,\n",
       "       0.63686508, 0.61616159, 0.56744759, 0.51472174, 0.46901643,\n",
       "       0.44229534, 0.55541228, 0.56909524, 0.59538651, 0.54652909,\n",
       "       0.60777992, 0.60942768, 0.74095562, 0.73894976, 0.74740303,\n",
       "       0.65377174, 0.73601256, 0.70327388, 0.70019348, 0.67877357,\n",
       "       0.85844251, 0.81474328, 0.84210897, 0.8760657 , 0.86424542,\n",
       "       0.79898275, 0.80772264, 0.77971201, 0.73035317, 0.65284051,\n",
       "       0.66795621, 0.64739593, 0.62146287, 0.66358627, 0.69109538,\n",
       "       0.70098151, 0.6646608 , 0.76946777, 0.7615158 , 0.76495452,\n",
       "       0.75879373, 0.78709075, 0.7825775 , 0.75306253, 0.69754279,\n",
       "       0.71760155, 0.72426398, 0.63707998, 0.47539224, 0.41722191,\n",
       "       0.41786663, 0.44967409, 0.42030231, 0.37259113, 0.3836235 ,\n",
       "       0.31241494, 0.33734506, 0.37187481, 0.46393005, 0.47431771,\n",
       "       0.46937464, 0.49022132, 0.48971991, 0.40282253, 0.43627764,\n",
       "       0.50118209, 0.59932664, 0.63822622, 0.57196073, 0.5770471 ,\n",
       "       0.58636011, 0.62647754, 0.57640238, 0.58528547, 0.58979872,\n",
       "       0.66602195, 0.64753923, 0.61845407, 0.60949928, 0.58621681,\n",
       "       0.60871125, 0.6133677 , 0.63679348, 0.64539006, 0.61601839,\n",
       "       0.59646104, 0.61279458, 0.69704138, 0.71459275, 0.70442012,\n",
       "       0.74124224, 0.66903075, 0.72175659, 0.70771542, 0.73687218,\n",
       "       0.77147364, 0.71230027, 0.67863026, 0.67820045, 0.60677698,\n",
       "       0.60305176, 0.59989976, 0.62110466, 0.58177526, 0.57446812,\n",
       "       0.52632712, 0.46665235, 0.47395949, 0.44272516, 0.41643389,\n",
       "       0.41865466, 0.39436926, 0.39680493, 0.38742033, 0.20689165,\n",
       "       0.2113332 , 0.26635141, 0.27107957, 0.24027505, 0.25152233,\n",
       "       0.2447167 , 0.19564437, 0.22458634, 0.24235262, 0.25653699,\n",
       "       0.28526405, 0.24629276, 0.21684938, 0.25044779, 0.33455117,\n",
       "       0.33096925, 0.28662508, 0.29386063, 0.31277316, 0.27380186,\n",
       "       0.32702912, 0.3293932 , 0.34594165])"
      ]
     },
     "execution_count": 47,
     "metadata": {},
     "output_type": "execute_result"
    }
   ],
   "source": [
    "y_test"
   ]
  },
  {
   "cell_type": "code",
   "execution_count": 48,
   "id": "bd6008ce",
   "metadata": {},
   "outputs": [
    {
     "data": {
      "text/plain": [
       "array([[0.6578644 ],\n",
       "       [0.6668102 ],\n",
       "       [0.6768956 ],\n",
       "       [0.68571454],\n",
       "       [0.69219345],\n",
       "       [0.6968808 ],\n",
       "       [0.70087767],\n",
       "       [0.7060215 ],\n",
       "       [0.7134817 ],\n",
       "       [0.7229463 ],\n",
       "       [0.72905916],\n",
       "       [0.72839504],\n",
       "       [0.72155035],\n",
       "       [0.70993334],\n",
       "       [0.69543135],\n",
       "       [0.67889386],\n",
       "       [0.6627069 ],\n",
       "       [0.6488341 ],\n",
       "       [0.63762665],\n",
       "       [0.62815756],\n",
       "       [0.62040997],\n",
       "       [0.6137542 ],\n",
       "       [0.6075613 ],\n",
       "       [0.60139483],\n",
       "       [0.5943117 ],\n",
       "       [0.58646727],\n",
       "       [0.5780989 ],\n",
       "       [0.569363  ],\n",
       "       [0.55982304],\n",
       "       [0.54867935],\n",
       "       [0.53527415],\n",
       "       [0.5193462 ],\n",
       "       [0.5031367 ],\n",
       "       [0.48910537],\n",
       "       [0.47932836],\n",
       "       [0.47405198],\n",
       "       [0.47367638],\n",
       "       [0.4779606 ],\n",
       "       [0.4879395 ],\n",
       "       [0.50370485],\n",
       "       [0.52440864],\n",
       "       [0.5466235 ],\n",
       "       [0.56864464],\n",
       "       [0.5885278 ],\n",
       "       [0.6048731 ],\n",
       "       [0.61660147],\n",
       "       [0.6265646 ],\n",
       "       [0.63624275],\n",
       "       [0.64667964],\n",
       "       [0.65856045],\n",
       "       [0.6713826 ],\n",
       "       [0.68272847],\n",
       "       [0.6909871 ],\n",
       "       [0.6949087 ],\n",
       "       [0.69340235],\n",
       "       [0.6853086 ],\n",
       "       [0.67152584],\n",
       "       [0.6536249 ],\n",
       "       [0.63323927],\n",
       "       [0.6127155 ],\n",
       "       [0.5944008 ],\n",
       "       [0.5800163 ],\n",
       "       [0.5697657 ],\n",
       "       [0.56488484],\n",
       "       [0.56564283],\n",
       "       [0.571458  ],\n",
       "       [0.5809532 ],\n",
       "       [0.5930018 ],\n",
       "       [0.60622925],\n",
       "       [0.618767  ],\n",
       "       [0.6282303 ],\n",
       "       [0.6337713 ],\n",
       "       [0.635629  ],\n",
       "       [0.6329786 ],\n",
       "       [0.6231997 ],\n",
       "       [0.6055501 ],\n",
       "       [0.5813297 ],\n",
       "       [0.5529782 ],\n",
       "       [0.52279025],\n",
       "       [0.492361  ],\n",
       "       [0.46307674],\n",
       "       [0.43510622],\n",
       "       [0.40891486],\n",
       "       [0.38544816],\n",
       "       [0.36682868],\n",
       "       [0.3550106 ],\n",
       "       [0.35094902],\n",
       "       [0.35478505],\n",
       "       [0.3652504 ],\n",
       "       [0.37883472],\n",
       "       [0.39287755],\n",
       "       [0.40674788],\n",
       "       [0.42171422],\n",
       "       [0.43917167],\n",
       "       [0.45861036],\n",
       "       [0.47883776],\n",
       "       [0.49857688],\n",
       "       [0.5173155 ],\n",
       "       [0.5337103 ],\n",
       "       [0.5469086 ],\n",
       "       [0.5566213 ],\n",
       "       [0.56425536],\n",
       "       [0.57064396],\n",
       "       [0.5756997 ],\n",
       "       [0.579071  ],\n",
       "       [0.58014977],\n",
       "       [0.5791787 ],\n",
       "       [0.5767466 ],\n",
       "       [0.5738692 ],\n",
       "       [0.57144815],\n",
       "       [0.56947476],\n",
       "       [0.56744206],\n",
       "       [0.5652751 ],\n",
       "       [0.5643887 ],\n",
       "       [0.56599903],\n",
       "       [0.57032555],\n",
       "       [0.5775347 ],\n",
       "       [0.5857983 ],\n",
       "       [0.5943493 ],\n",
       "       [0.6022953 ],\n",
       "       [0.60952336],\n",
       "       [0.6166013 ],\n",
       "       [0.62265676],\n",
       "       [0.6263924 ],\n",
       "       [0.62718326],\n",
       "       [0.6238016 ],\n",
       "       [0.6161229 ],\n",
       "       [0.60494083],\n",
       "       [0.59195995],\n",
       "       [0.57814455],\n",
       "       [0.56429064],\n",
       "       [0.55031866],\n",
       "       [0.53545064],\n",
       "       [0.5197071 ],\n",
       "       [0.5029877 ],\n",
       "       [0.48533162],\n",
       "       [0.46729445],\n",
       "       [0.4493217 ],\n",
       "       [0.4320154 ],\n",
       "       [0.4158038 ],\n",
       "       [0.3986537 ],\n",
       "       [0.3795529 ],\n",
       "       [0.35900444],\n",
       "       [0.33792838],\n",
       "       [0.31706956],\n",
       "       [0.2971297 ],\n",
       "       [0.2786716 ],\n",
       "       [0.2615675 ],\n",
       "       [0.24586815],\n",
       "       [0.23180218],\n",
       "       [0.21978979],\n",
       "       [0.21089438],\n",
       "       [0.20510332],\n",
       "       [0.20146511],\n",
       "       [0.1995559 ],\n",
       "       [0.20074333],\n",
       "       [0.20611715],\n",
       "       [0.21501602],\n",
       "       [0.22616392],\n",
       "       [0.23846063],\n",
       "       [0.2501155 ],\n",
       "       [0.26069847],\n",
       "       [0.27023575]], dtype=float32)"
      ]
     },
     "execution_count": 48,
     "metadata": {},
     "output_type": "execute_result"
    }
   ],
   "source": [
    "y_predicted"
   ]
  },
  {
   "cell_type": "code",
   "execution_count": 49,
   "id": "eb32a923",
   "metadata": {},
   "outputs": [
    {
     "data": {
      "text/plain": [
       "array([0.00716384])"
      ]
     },
     "execution_count": 49,
     "metadata": {},
     "output_type": "execute_result"
    }
   ],
   "source": [
    "# Scale up the values\n",
    "scaler.scale_"
   ]
  },
  {
   "cell_type": "code",
   "execution_count": 51,
   "id": "6a659d0f",
   "metadata": {},
   "outputs": [],
   "source": [
    "# Divide y_predictor and y_test\n",
    "scale_factor = 1/0.00716384\n",
    "\n",
    "y_predicted = y_predicted * scale_factor\n",
    "\n",
    "y_test = y_test * scale_factor"
   ]
  },
  {
   "cell_type": "code",
   "execution_count": 54,
   "id": "6e1efc18",
   "metadata": {},
   "outputs": [
    {
     "data": {
      "image/png": "[encoded data removed]",
      "text/plain": [
       "<Figure size 864x432 with 1 Axes>"
      ]
     },
     "metadata": {
      "needs_background": "light"
     },
     "output_type": "display_data"
    }
   ],
   "source": [
    "# Create graph\n",
    "\n",
    "# Graph size\n",
    "plt.figure(figsize=(12,6))\n",
    "\n",
    "# Parameters\n",
    "plt.plot(y_test, 'b', label = 'Original Price')\n",
    "\n",
    "# Y predictor\n",
    "plt.plot(y_predicted, 'r', label = 'Predictor Price')\n",
    "\n",
    "plt.xlabel('Time')\n",
    "plt.ylabel('Price')\n",
    "plt.legend()\n",
    "plt.show()"
   ]
  }
 ],
 "metadata": {
  "kernelspec": {
   "display_name": "Python 3 (ipykernel)",
   "language": "python",
   "name": "python3"
  },
  "language_info": {
   "codemirror_mode": {
    "name": "ipython",
    "version": 3
   },
   "file_extension": ".py",
   "mimetype": "text/x-python",
   "name": "python",
   "nbconvert_exporter": "python",
   "pygments_lexer": "ipython3",
   "version": "3.9.7"
  }
 },
 "nbformat": 4,
 "nbformat_minor": 5
}
